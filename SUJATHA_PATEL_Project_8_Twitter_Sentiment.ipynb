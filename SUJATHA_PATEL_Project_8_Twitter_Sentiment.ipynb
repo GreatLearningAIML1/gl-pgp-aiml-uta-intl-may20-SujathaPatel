{
  "nbformat": 4,
  "nbformat_minor": 0,
  "metadata": {
    "accelerator": "GPU",
    "colab": {
      "name": "SUJATHA PATEL Project 8 - Twitter Sentiment.ipynb",
      "provenance": [],
      "collapsed_sections": []
    },
    "kernelspec": {
      "display_name": "Python 3",
      "language": "python",
      "name": "python3"
    },
    "language_info": {
      "codemirror_mode": {
        "name": "ipython",
        "version": 3
      },
      "file_extension": ".py",
      "mimetype": "text/x-python",
      "name": "python",
      "nbconvert_exporter": "python",
      "pygments_lexer": "ipython3",
      "version": "3.8.3"
    }
  },
  "cells": [
    {
      "cell_type": "markdown",
      "metadata": {
        "id": "z25LSrCd2MJY"
      },
      "source": [
        "# Project Submission by Sujatha Patel"
      ]
    },
    {
      "cell_type": "markdown",
      "metadata": {
        "id": "EgfVu39EAhSL"
      },
      "source": [
        "**Project Description: Twitter US Airline Sentiment**\n",
        "#### *Data Description:*\n",
        "A sentiment analysis job about the problems of each major U.S. airline. Twitter data was scraped from\n",
        "February of 2015 and contributors were asked to first classify positive, negative, and neutral tweets, followed\n",
        "by categorizing negative reasons (such as \"late flight\" or \"rude service\").\n",
        "#### *Dataset:*\n",
        "The project is from a dataset from Kaggle.\n",
        "Link to the Kaggle project site: https://www.kaggle.com/crowdflower/twitter-airline-sentiment\n",
        "The dataset has to be downloaded from the above Kaggle website.\n",
        "#### *The dataset has the following columns:*\n",
        " tweet_id\n",
        " airline_sentiment\n",
        " airline_sentiment_confidence\n",
        " negativereason\n",
        " negativereason_confidence\n",
        " airline\n",
        " airline_sentiment_gold\n",
        " name\n",
        " negativereason_gold\n",
        " retweet_count\n",
        " text\n",
        " tweet_coord\n",
        " tweet_created\n",
        " tweet_location\n",
        " user_timezone\n",
        "#### *Objective*\n",
        "To implement the techniques learnt as a part of the course.\n",
        "#### *Learning Outcomes*\n",
        " Basic understanding of text pre-processing.\n",
        " What to do after text pre-processing:\n",
        "o Bag of words\n",
        "o Tf-idf\n",
        " Build the classification model.\n",
        " Evaluate the Model.\n",
        "#### *Steps and tasks*\n",
        "1. Import the libraries, load dataset, print shape of data, data description. (5 Marks)\n",
        "2. Understand of data-columns: (5 Marks)\n",
        "a. Drop all other columns except “text” and “airline_sentiment”.\n",
        "b. Check the shape of data.\n",
        "c. Print first 5 rows of data.\n",
        "3. Text pre-processing: Data preparation. (20 Marks)\n",
        "a. Html tag removal.\n",
        "b. Tokenization.\n",
        "c. Remove the numbers.\n",
        "d. Removal of Special Characters and Punctuations.\n",
        "e. Conversion to lowercase.\n",
        "f. Lemmatize or stemming.\n",
        "g. Join the words in the list to convert back to text string in the dataframe. (So that each row\n",
        "contains the data in text format.)\n",
        "h. Print first 5 rows of data after pre-processing.\n",
        "4. Vectorization: (10 Marks)\n",
        "a. Use CountVectorizer.\n",
        "b. Use TfidfVectorizer.\n",
        "5. Fit and evaluate model using both type of vectorization. (6+6 Marks)\n",
        "6. Summarize your understanding of the application of Various Pre-processing and Vectorization and\n",
        "performance of your model on this dataset. (8 Marks)\n"
      ]
    },
    {
      "cell_type": "code",
      "metadata": {
        "id": "elsp_YR6BpfD"
      },
      "source": [
        "#!pip install torch===1.4.0 torchvision===0.5.0 -f https://download.pytorch.org/whl/torch_stable.html"
      ],
      "execution_count": 1,
      "outputs": []
    },
    {
      "cell_type": "markdown",
      "metadata": {
        "id": "2H8lZl7vqfeo"
      },
      "source": [
        "**Import the libraries, load dataset, print shape of data, data description.**"
      ]
    },
    {
      "cell_type": "code",
      "metadata": {
        "colab": {
          "base_uri": "https://localhost:8080/"
        },
        "id": "xUiOUD5uAkzV",
        "outputId": "c642816b-ace9-469e-878f-e62969ebfc63"
      },
      "source": [
        "from google.colab import drive\n",
        "drive.mount('/content/drive')"
      ],
      "execution_count": 2,
      "outputs": [
        {
          "output_type": "stream",
          "text": [
            "Drive already mounted at /content/drive; to attempt to forcibly remount, call drive.mount(\"/content/drive\", force_remount=True).\n"
          ],
          "name": "stdout"
        }
      ]
    },
    {
      "cell_type": "code",
      "metadata": {
        "id": "2hN_EXW6A4jk"
      },
      "source": [
        "import os\n",
        "os.chdir(\"/content/drive/My Drive/Colab Notebooks\")"
      ],
      "execution_count": 3,
      "outputs": []
    },
    {
      "cell_type": "code",
      "metadata": {
        "colab": {
          "base_uri": "https://localhost:8080/"
        },
        "id": "yZzFUGOA3FF1",
        "outputId": "d249b3fb-e042-4471-ca56-0e0a7dc3c22a"
      },
      "source": [
        "!pip install contractions"
      ],
      "execution_count": 4,
      "outputs": [
        {
          "output_type": "stream",
          "text": [
            "Requirement already satisfied: contractions in /usr/local/lib/python3.6/dist-packages (0.0.43)\n",
            "Requirement already satisfied: textsearch in /usr/local/lib/python3.6/dist-packages (from contractions) (0.0.17)\n",
            "Requirement already satisfied: pyahocorasick in /usr/local/lib/python3.6/dist-packages (from textsearch->contractions) (1.4.0)\n",
            "Requirement already satisfied: Unidecode in /usr/local/lib/python3.6/dist-packages (from textsearch->contractions) (1.1.1)\n"
          ],
          "name": "stdout"
        }
      ]
    },
    {
      "cell_type": "code",
      "metadata": {
        "colab": {
          "base_uri": "https://localhost:8080/"
        },
        "id": "e3WYej2EAhSL",
        "outputId": "475caf7d-6bdb-4524-e714-09d59b84fb51"
      },
      "source": [
        "# Import libraries.\n",
        "import pandas as pd\n",
        "import numpy as np\n",
        "import nltk\n",
        "import re \n",
        "import string\n",
        "import unicodedata           \n",
        "import contractions\n",
        "\n",
        "# Natural language processing tool-kit\n",
        "nltk.download('punkt')\n",
        "nltk.download('stopwords')\n",
        "nltk.download('wordnet')\n",
        "\n",
        "from bs4 import BeautifulSoup                 \n",
        "from nltk import word_tokenize, sent_tokenize\n",
        "from nltk.corpus import stopwords, wordnet    \n",
        "from nltk.stem import LancasterStemmer, WordNetLemmatizer\n",
        "\n",
        "import seaborn as sns\n",
        "from matplotlib import pyplot as plt\n",
        "\n",
        "from nltk.corpus import twitter_samples\n",
        "from nltk.tokenize.casual import TweetTokenizer\n",
        "from sklearn.feature_extraction.text import CountVectorizer, TfidfVectorizer, ENGLISH_STOP_WORDS\n",
        "from sklearn.model_selection import train_test_split\n"
      ],
      "execution_count": 5,
      "outputs": [
        {
          "output_type": "stream",
          "text": [
            "[nltk_data] Downloading package punkt to /root/nltk_data...\n",
            "[nltk_data]   Unzipping tokenizers/punkt.zip.\n",
            "[nltk_data] Downloading package stopwords to /root/nltk_data...\n",
            "[nltk_data]   Unzipping corpora/stopwords.zip.\n",
            "[nltk_data] Downloading package wordnet to /root/nltk_data...\n",
            "[nltk_data]   Unzipping corpora/wordnet.zip.\n"
          ],
          "name": "stdout"
        }
      ]
    },
    {
      "cell_type": "code",
      "metadata": {
        "colab": {
          "base_uri": "https://localhost:8080/",
          "height": 443
        },
        "id": "DuUz77dFAxv2",
        "outputId": "40b5d612-7ce9-409a-d386-6bf054d6c041"
      },
      "source": [
        "# Load dataset\n",
        "twitter_data = pd.read_csv(\"/content/drive/My Drive/Colab Notebooks/Tweets.csv\")\n",
        "twitter_data.head()"
      ],
      "execution_count": 6,
      "outputs": [
        {
          "output_type": "execute_result",
          "data": {
            "text/html": [
              "<div>\n",
              "<style scoped>\n",
              "    .dataframe tbody tr th:only-of-type {\n",
              "        vertical-align: middle;\n",
              "    }\n",
              "\n",
              "    .dataframe tbody tr th {\n",
              "        vertical-align: top;\n",
              "    }\n",
              "\n",
              "    .dataframe thead th {\n",
              "        text-align: right;\n",
              "    }\n",
              "</style>\n",
              "<table border=\"1\" class=\"dataframe\">\n",
              "  <thead>\n",
              "    <tr style=\"text-align: right;\">\n",
              "      <th></th>\n",
              "      <th>tweet_id</th>\n",
              "      <th>airline_sentiment</th>\n",
              "      <th>airline_sentiment_confidence</th>\n",
              "      <th>negativereason</th>\n",
              "      <th>negativereason_confidence</th>\n",
              "      <th>airline</th>\n",
              "      <th>airline_sentiment_gold</th>\n",
              "      <th>name</th>\n",
              "      <th>negativereason_gold</th>\n",
              "      <th>retweet_count</th>\n",
              "      <th>text</th>\n",
              "      <th>tweet_coord</th>\n",
              "      <th>tweet_created</th>\n",
              "      <th>tweet_location</th>\n",
              "      <th>user_timezone</th>\n",
              "    </tr>\n",
              "  </thead>\n",
              "  <tbody>\n",
              "    <tr>\n",
              "      <th>0</th>\n",
              "      <td>570306133677760513</td>\n",
              "      <td>neutral</td>\n",
              "      <td>1.0000</td>\n",
              "      <td>NaN</td>\n",
              "      <td>NaN</td>\n",
              "      <td>Virgin America</td>\n",
              "      <td>NaN</td>\n",
              "      <td>cairdin</td>\n",
              "      <td>NaN</td>\n",
              "      <td>0</td>\n",
              "      <td>@VirginAmerica What @dhepburn said.</td>\n",
              "      <td>NaN</td>\n",
              "      <td>2015-02-24 11:35:52 -0800</td>\n",
              "      <td>NaN</td>\n",
              "      <td>Eastern Time (US &amp; Canada)</td>\n",
              "    </tr>\n",
              "    <tr>\n",
              "      <th>1</th>\n",
              "      <td>570301130888122368</td>\n",
              "      <td>positive</td>\n",
              "      <td>0.3486</td>\n",
              "      <td>NaN</td>\n",
              "      <td>0.0000</td>\n",
              "      <td>Virgin America</td>\n",
              "      <td>NaN</td>\n",
              "      <td>jnardino</td>\n",
              "      <td>NaN</td>\n",
              "      <td>0</td>\n",
              "      <td>@VirginAmerica plus you've added commercials t...</td>\n",
              "      <td>NaN</td>\n",
              "      <td>2015-02-24 11:15:59 -0800</td>\n",
              "      <td>NaN</td>\n",
              "      <td>Pacific Time (US &amp; Canada)</td>\n",
              "    </tr>\n",
              "    <tr>\n",
              "      <th>2</th>\n",
              "      <td>570301083672813571</td>\n",
              "      <td>neutral</td>\n",
              "      <td>0.6837</td>\n",
              "      <td>NaN</td>\n",
              "      <td>NaN</td>\n",
              "      <td>Virgin America</td>\n",
              "      <td>NaN</td>\n",
              "      <td>yvonnalynn</td>\n",
              "      <td>NaN</td>\n",
              "      <td>0</td>\n",
              "      <td>@VirginAmerica I didn't today... Must mean I n...</td>\n",
              "      <td>NaN</td>\n",
              "      <td>2015-02-24 11:15:48 -0800</td>\n",
              "      <td>Lets Play</td>\n",
              "      <td>Central Time (US &amp; Canada)</td>\n",
              "    </tr>\n",
              "    <tr>\n",
              "      <th>3</th>\n",
              "      <td>570301031407624196</td>\n",
              "      <td>negative</td>\n",
              "      <td>1.0000</td>\n",
              "      <td>Bad Flight</td>\n",
              "      <td>0.7033</td>\n",
              "      <td>Virgin America</td>\n",
              "      <td>NaN</td>\n",
              "      <td>jnardino</td>\n",
              "      <td>NaN</td>\n",
              "      <td>0</td>\n",
              "      <td>@VirginAmerica it's really aggressive to blast...</td>\n",
              "      <td>NaN</td>\n",
              "      <td>2015-02-24 11:15:36 -0800</td>\n",
              "      <td>NaN</td>\n",
              "      <td>Pacific Time (US &amp; Canada)</td>\n",
              "    </tr>\n",
              "    <tr>\n",
              "      <th>4</th>\n",
              "      <td>570300817074462722</td>\n",
              "      <td>negative</td>\n",
              "      <td>1.0000</td>\n",
              "      <td>Can't Tell</td>\n",
              "      <td>1.0000</td>\n",
              "      <td>Virgin America</td>\n",
              "      <td>NaN</td>\n",
              "      <td>jnardino</td>\n",
              "      <td>NaN</td>\n",
              "      <td>0</td>\n",
              "      <td>@VirginAmerica and it's a really big bad thing...</td>\n",
              "      <td>NaN</td>\n",
              "      <td>2015-02-24 11:14:45 -0800</td>\n",
              "      <td>NaN</td>\n",
              "      <td>Pacific Time (US &amp; Canada)</td>\n",
              "    </tr>\n",
              "  </tbody>\n",
              "</table>\n",
              "</div>"
            ],
            "text/plain": [
              "             tweet_id  ...               user_timezone\n",
              "0  570306133677760513  ...  Eastern Time (US & Canada)\n",
              "1  570301130888122368  ...  Pacific Time (US & Canada)\n",
              "2  570301083672813571  ...  Central Time (US & Canada)\n",
              "3  570301031407624196  ...  Pacific Time (US & Canada)\n",
              "4  570300817074462722  ...  Pacific Time (US & Canada)\n",
              "\n",
              "[5 rows x 15 columns]"
            ]
          },
          "metadata": {
            "tags": []
          },
          "execution_count": 6
        }
      ]
    },
    {
      "cell_type": "code",
      "metadata": {
        "colab": {
          "base_uri": "https://localhost:8080/"
        },
        "id": "Adqr-P0E4PTd",
        "outputId": "e80bfaf5-2a69-43c9-a8ab-faa830aabd15"
      },
      "source": [
        "# Shape of twitter_data\n",
        "twitter_data.shape"
      ],
      "execution_count": 7,
      "outputs": [
        {
          "output_type": "execute_result",
          "data": {
            "text/plain": [
              "(14640, 15)"
            ]
          },
          "metadata": {
            "tags": []
          },
          "execution_count": 7
        }
      ]
    },
    {
      "cell_type": "code",
      "metadata": {
        "colab": {
          "base_uri": "https://localhost:8080/"
        },
        "id": "5V9CyzAr4ZOF",
        "outputId": "6db6403f-f46b-4b8c-a1fb-c9cafff63201"
      },
      "source": [
        "# Describe twitter_data\n",
        "twitter_data.info()"
      ],
      "execution_count": 8,
      "outputs": [
        {
          "output_type": "stream",
          "text": [
            "<class 'pandas.core.frame.DataFrame'>\n",
            "RangeIndex: 14640 entries, 0 to 14639\n",
            "Data columns (total 15 columns):\n",
            " #   Column                        Non-Null Count  Dtype  \n",
            "---  ------                        --------------  -----  \n",
            " 0   tweet_id                      14640 non-null  int64  \n",
            " 1   airline_sentiment             14640 non-null  object \n",
            " 2   airline_sentiment_confidence  14640 non-null  float64\n",
            " 3   negativereason                9178 non-null   object \n",
            " 4   negativereason_confidence     10522 non-null  float64\n",
            " 5   airline                       14640 non-null  object \n",
            " 6   airline_sentiment_gold        40 non-null     object \n",
            " 7   name                          14640 non-null  object \n",
            " 8   negativereason_gold           32 non-null     object \n",
            " 9   retweet_count                 14640 non-null  int64  \n",
            " 10  text                          14640 non-null  object \n",
            " 11  tweet_coord                   1019 non-null   object \n",
            " 12  tweet_created                 14640 non-null  object \n",
            " 13  tweet_location                9907 non-null   object \n",
            " 14  user_timezone                 9820 non-null   object \n",
            "dtypes: float64(2), int64(2), object(11)\n",
            "memory usage: 1.7+ MB\n"
          ],
          "name": "stdout"
        }
      ]
    },
    {
      "cell_type": "markdown",
      "metadata": {
        "id": "JQq9jMg-tB9T"
      },
      "source": [
        "---\n",
        "                                                           twitter_data1"
      ]
    },
    {
      "cell_type": "markdown",
      "metadata": {
        "id": "Ik1ko-W4tUIT"
      },
      "source": [
        "**Understand of data-columns**"
      ]
    },
    {
      "cell_type": "markdown",
      "metadata": {
        "id": "RtW_Umlq62d3"
      },
      "source": [
        "**Drop all other columns except “text” and “airline_sentiment”**"
      ]
    },
    {
      "cell_type": "code",
      "metadata": {
        "id": "lNV-04ji4REi"
      },
      "source": [
        "# dropping all columns except 'text' and 'airline_sentiment'\n",
        "twitter_data1 = twitter_data.loc[:14640, ['text', 'airline_sentiment']]"
      ],
      "execution_count": 9,
      "outputs": []
    },
    {
      "cell_type": "markdown",
      "metadata": {
        "id": "QDzutGhHt0b4"
      },
      "source": [
        "**Check the shape of data**\n"
      ]
    },
    {
      "cell_type": "code",
      "metadata": {
        "colab": {
          "base_uri": "https://localhost:8080/"
        },
        "id": "sRbFrGDo5Iyx",
        "outputId": "bce3c041-c351-4481-87fb-69fc0a0563e2"
      },
      "source": [
        "# shape of twitter_data1 (after dropping the unnecessary columns for sentiment analysis)\n",
        "twitter_data1.shape"
      ],
      "execution_count": 10,
      "outputs": [
        {
          "output_type": "execute_result",
          "data": {
            "text/plain": [
              "(14640, 2)"
            ]
          },
          "metadata": {
            "tags": []
          },
          "execution_count": 10
        }
      ]
    },
    {
      "cell_type": "code",
      "metadata": {
        "colab": {
          "base_uri": "https://localhost:8080/"
        },
        "id": "jA5_A62muNoG",
        "outputId": "8b15167b-f2b9-45ff-963c-e8ccc47527d4"
      },
      "source": [
        "# Check for NULL values.\n",
        "twitter_data1.isnull().sum(axis=0)  "
      ],
      "execution_count": 11,
      "outputs": [
        {
          "output_type": "execute_result",
          "data": {
            "text/plain": [
              "text                 0\n",
              "airline_sentiment    0\n",
              "dtype: int64"
            ]
          },
          "metadata": {
            "tags": []
          },
          "execution_count": 11
        }
      ]
    },
    {
      "cell_type": "markdown",
      "metadata": {
        "id": "APdJZ3NJt3lr"
      },
      "source": [
        "**Print first 5 rows of data.**"
      ]
    },
    {
      "cell_type": "code",
      "metadata": {
        "colab": {
          "base_uri": "https://localhost:8080/",
          "height": 198
        },
        "id": "u-e8N-Su5Sat",
        "outputId": "f119602d-441c-4272-977b-83a2cc4445ca"
      },
      "source": [
        "# Display full inforamtion of the text columns \n",
        "pd.set_option('display.max_colwidth', None) \n",
        "twitter_data1.head()"
      ],
      "execution_count": 12,
      "outputs": [
        {
          "output_type": "execute_result",
          "data": {
            "text/html": [
              "<div>\n",
              "<style scoped>\n",
              "    .dataframe tbody tr th:only-of-type {\n",
              "        vertical-align: middle;\n",
              "    }\n",
              "\n",
              "    .dataframe tbody tr th {\n",
              "        vertical-align: top;\n",
              "    }\n",
              "\n",
              "    .dataframe thead th {\n",
              "        text-align: right;\n",
              "    }\n",
              "</style>\n",
              "<table border=\"1\" class=\"dataframe\">\n",
              "  <thead>\n",
              "    <tr style=\"text-align: right;\">\n",
              "      <th></th>\n",
              "      <th>text</th>\n",
              "      <th>airline_sentiment</th>\n",
              "    </tr>\n",
              "  </thead>\n",
              "  <tbody>\n",
              "    <tr>\n",
              "      <th>0</th>\n",
              "      <td>@VirginAmerica What @dhepburn said.</td>\n",
              "      <td>neutral</td>\n",
              "    </tr>\n",
              "    <tr>\n",
              "      <th>1</th>\n",
              "      <td>@VirginAmerica plus you've added commercials to the experience... tacky.</td>\n",
              "      <td>positive</td>\n",
              "    </tr>\n",
              "    <tr>\n",
              "      <th>2</th>\n",
              "      <td>@VirginAmerica I didn't today... Must mean I need to take another trip!</td>\n",
              "      <td>neutral</td>\n",
              "    </tr>\n",
              "    <tr>\n",
              "      <th>3</th>\n",
              "      <td>@VirginAmerica it's really aggressive to blast obnoxious \"entertainment\" in your guests' faces &amp;amp; they have little recourse</td>\n",
              "      <td>negative</td>\n",
              "    </tr>\n",
              "    <tr>\n",
              "      <th>4</th>\n",
              "      <td>@VirginAmerica and it's a really big bad thing about it</td>\n",
              "      <td>negative</td>\n",
              "    </tr>\n",
              "  </tbody>\n",
              "</table>\n",
              "</div>"
            ],
            "text/plain": [
              "                                                                                                                             text airline_sentiment\n",
              "0                                                                                             @VirginAmerica What @dhepburn said.           neutral\n",
              "1                                                        @VirginAmerica plus you've added commercials to the experience... tacky.          positive\n",
              "2                                                         @VirginAmerica I didn't today... Must mean I need to take another trip!           neutral\n",
              "3  @VirginAmerica it's really aggressive to blast obnoxious \"entertainment\" in your guests' faces &amp; they have little recourse          negative\n",
              "4                                                                         @VirginAmerica and it's a really big bad thing about it          negative"
            ]
          },
          "metadata": {
            "tags": []
          },
          "execution_count": 12
        }
      ]
    },
    {
      "cell_type": "code",
      "metadata": {
        "colab": {
          "base_uri": "https://localhost:8080/"
        },
        "id": "KOBQ-ZlXAhSM",
        "outputId": "36ac13aa-d05a-4504-8a0b-e37dbadf6aaf"
      },
      "source": [
        "# Count by Sentiment\n",
        "from collections import Counter\n",
        "labels = np.array(twitter_data1.airline_sentiment)\n",
        "Counter(labels)"
      ],
      "execution_count": 13,
      "outputs": [
        {
          "output_type": "execute_result",
          "data": {
            "text/plain": [
              "Counter({'negative': 9178, 'neutral': 3099, 'positive': 2363})"
            ]
          },
          "metadata": {
            "tags": []
          },
          "execution_count": 13
        }
      ]
    },
    {
      "cell_type": "code",
      "metadata": {
        "colab": {
          "base_uri": "https://localhost:8080/",
          "height": 258
        },
        "id": "JsrrvNE2Z6mR",
        "outputId": "b8f7acc8-769f-4092-fe58-c0900a580412"
      },
      "source": [
        "#Plotting the number of each type of sentiments \n",
        "colors=sns.color_palette(\"husl\", 10)\n",
        "pd.Series(twitter_data1[\"airline_sentiment\"]).value_counts().plot(kind = \"bar\",\n",
        "                                    color=colors,figsize=(5,3),rot=0, title = \"Total No. of Tweets for Each Sentiment\")\n",
        "plt.xlabel('Sentiments', fontsize=10)\n",
        "plt.ylabel('No. of Tweets', fontsize=10)"
      ],
      "execution_count": 14,
      "outputs": [
        {
          "output_type": "execute_result",
          "data": {
            "text/plain": [
              "Text(0, 0.5, 'No. of Tweets')"
            ]
          },
          "metadata": {
            "tags": []
          },
          "execution_count": 14
        },
        {
          "output_type": "display_data",
          "data": {
            "image/png": "[encoded data removed]",
            "text/plain": [
              "<Figure size 360x216 with 1 Axes>"
            ]
          },
          "metadata": {
            "tags": [],
            "needs_background": "light"
          }
        }
      ]
    },
    {
      "cell_type": "markdown",
      "metadata": {
        "id": "uaIyruCE-Nah"
      },
      "source": [
        "**63% Negative**\n",
        "**21% Neutral**\n",
        "**16% Positive**"
      ]
    },
    {
      "cell_type": "markdown",
      "metadata": {
        "id": "-6xDFJdhuu9p"
      },
      "source": [
        "**Text pre-processing: Data preparation**"
      ]
    },
    {
      "cell_type": "markdown",
      "metadata": {
        "id": "o8CI2U4BvC8O"
      },
      "source": [
        "* **HTML tag removal.**\n",
        "* **Remove the numbers.**\n",
        "* **Removal of Special Characters and Punctuations.**\n",
        "* **Conversion to lowercase**"
      ]
    },
    {
      "cell_type": "code",
      "metadata": {
        "colab": {
          "base_uri": "https://localhost:8080/",
          "height": 78
        },
        "id": "mjkIcJCPHhaZ",
        "outputId": "eb751071-8b33-46fd-864a-78f18e7ed2cb"
      },
      "source": [
        "twitter_data1.loc[[50]] #shows the text with numbers (769), \n",
        "                        #special chars like @,?,\",. \n",
        "                        #punctuations"
      ],
      "execution_count": 15,
      "outputs": [
        {
          "output_type": "execute_result",
          "data": {
            "text/html": [
              "<div>\n",
              "<style scoped>\n",
              "    .dataframe tbody tr th:only-of-type {\n",
              "        vertical-align: middle;\n",
              "    }\n",
              "\n",
              "    .dataframe tbody tr th {\n",
              "        vertical-align: top;\n",
              "    }\n",
              "\n",
              "    .dataframe thead th {\n",
              "        text-align: right;\n",
              "    }\n",
              "</style>\n",
              "<table border=\"1\" class=\"dataframe\">\n",
              "  <thead>\n",
              "    <tr style=\"text-align: right;\">\n",
              "      <th></th>\n",
              "      <th>text</th>\n",
              "      <th>airline_sentiment</th>\n",
              "    </tr>\n",
              "  </thead>\n",
              "  <tbody>\n",
              "    <tr>\n",
              "      <th>50</th>\n",
              "      <td>@VirginAmerica Is flight 769 on it's way? Was supposed to take off 30 minutes ago. Website still shows \"On Time\" not \"In Flight\". Thanks.</td>\n",
              "      <td>neutral</td>\n",
              "    </tr>\n",
              "  </tbody>\n",
              "</table>\n",
              "</div>"
            ],
            "text/plain": [
              "                                                                                                                                         text airline_sentiment\n",
              "50  @VirginAmerica Is flight 769 on it's way? Was supposed to take off 30 minutes ago. Website still shows \"On Time\" not \"In Flight\". Thanks.           neutral"
            ]
          },
          "metadata": {
            "tags": []
          },
          "execution_count": 15
        }
      ]
    },
    {
      "cell_type": "code",
      "metadata": {
        "colab": {
          "base_uri": "https://localhost:8080/",
          "height": 78
        },
        "id": "miMKT3nYIqsq",
        "outputId": "d783b9fa-670f-4761-e874-45a4f047deae"
      },
      "source": [
        "twitter_data1.loc[[105]] #shows the text with special characters, emoji etc "
      ],
      "execution_count": 16,
      "outputs": [
        {
          "output_type": "execute_result",
          "data": {
            "text/html": [
              "<div>\n",
              "<style scoped>\n",
              "    .dataframe tbody tr th:only-of-type {\n",
              "        vertical-align: middle;\n",
              "    }\n",
              "\n",
              "    .dataframe tbody tr th {\n",
              "        vertical-align: top;\n",
              "    }\n",
              "\n",
              "    .dataframe thead th {\n",
              "        text-align: right;\n",
              "    }\n",
              "</style>\n",
              "<table border=\"1\" class=\"dataframe\">\n",
              "  <thead>\n",
              "    <tr style=\"text-align: right;\">\n",
              "      <th></th>\n",
              "      <th>text</th>\n",
              "      <th>airline_sentiment</th>\n",
              "    </tr>\n",
              "  </thead>\n",
              "  <tbody>\n",
              "    <tr>\n",
              "      <th>105</th>\n",
              "      <td>@VirginAmerica - amazing customer  service, again! 💕💕 RaeAnn in SF - she's the best! #customerservice #virginamerica #flying</td>\n",
              "      <td>positive</td>\n",
              "    </tr>\n",
              "  </tbody>\n",
              "</table>\n",
              "</div>"
            ],
            "text/plain": [
              "                                                                                                                             text airline_sentiment\n",
              "105  @VirginAmerica - amazing customer  service, again! 💕💕 RaeAnn in SF - she's the best! #customerservice #virginamerica #flying          positive"
            ]
          },
          "metadata": {
            "tags": []
          },
          "execution_count": 16
        }
      ]
    },
    {
      "cell_type": "code",
      "metadata": {
        "colab": {
          "base_uri": "https://localhost:8080/",
          "height": 78
        },
        "id": "gdyRR-dMRXKk",
        "outputId": "1e20ff05-4fc2-4964-a88c-2e065409e7a6"
      },
      "source": [
        "twitter_data1.loc[[68]] #shows the winning later to be lametized as 'win' "
      ],
      "execution_count": 17,
      "outputs": [
        {
          "output_type": "execute_result",
          "data": {
            "text/html": [
              "<div>\n",
              "<style scoped>\n",
              "    .dataframe tbody tr th:only-of-type {\n",
              "        vertical-align: middle;\n",
              "    }\n",
              "\n",
              "    .dataframe tbody tr th {\n",
              "        vertical-align: top;\n",
              "    }\n",
              "\n",
              "    .dataframe thead th {\n",
              "        text-align: right;\n",
              "    }\n",
              "</style>\n",
              "<table border=\"1\" class=\"dataframe\">\n",
              "  <thead>\n",
              "    <tr style=\"text-align: right;\">\n",
              "      <th></th>\n",
              "      <th>text</th>\n",
              "      <th>airline_sentiment</th>\n",
              "    </tr>\n",
              "  </thead>\n",
              "  <tbody>\n",
              "    <tr>\n",
              "      <th>68</th>\n",
              "      <td>@VirginAmerica Congrats on winning the @Travelzoo award for Best Deals from an Airline (US) http://t.co/kj1iljaebV</td>\n",
              "      <td>positive</td>\n",
              "    </tr>\n",
              "  </tbody>\n",
              "</table>\n",
              "</div>"
            ],
            "text/plain": [
              "                                                                                                                  text airline_sentiment\n",
              "68  @VirginAmerica Congrats on winning the @Travelzoo award for Best Deals from an Airline (US) http://t.co/kj1iljaebV          positive"
            ]
          },
          "metadata": {
            "tags": []
          },
          "execution_count": 17
        }
      ]
    },
    {
      "cell_type": "code",
      "metadata": {
        "colab": {
          "base_uri": "https://localhost:8080/",
          "height": 78
        },
        "id": "cvJ15nIWrV9t",
        "outputId": "acf77fb3-b5f9-4ccd-e1ba-d087ec456b1f"
      },
      "source": [
        "twitter_data1.loc[[73]]"
      ],
      "execution_count": 18,
      "outputs": [
        {
          "output_type": "execute_result",
          "data": {
            "text/html": [
              "<div>\n",
              "<style scoped>\n",
              "    .dataframe tbody tr th:only-of-type {\n",
              "        vertical-align: middle;\n",
              "    }\n",
              "\n",
              "    .dataframe tbody tr th {\n",
              "        vertical-align: top;\n",
              "    }\n",
              "\n",
              "    .dataframe thead th {\n",
              "        text-align: right;\n",
              "    }\n",
              "</style>\n",
              "<table border=\"1\" class=\"dataframe\">\n",
              "  <thead>\n",
              "    <tr style=\"text-align: right;\">\n",
              "      <th></th>\n",
              "      <th>text</th>\n",
              "      <th>airline_sentiment</th>\n",
              "    </tr>\n",
              "  </thead>\n",
              "  <tbody>\n",
              "    <tr>\n",
              "      <th>73</th>\n",
              "      <td>@VirginAmerica your airline is awesome but your lax loft needs to step up its game. $40 for dirty tables and floors? http://t.co/hy0VrfhjHt</td>\n",
              "      <td>negative</td>\n",
              "    </tr>\n",
              "  </tbody>\n",
              "</table>\n",
              "</div>"
            ],
            "text/plain": [
              "                                                                                                                                           text airline_sentiment\n",
              "73  @VirginAmerica your airline is awesome but your lax loft needs to step up its game. $40 for dirty tables and floors? http://t.co/hy0VrfhjHt          negative"
            ]
          },
          "metadata": {
            "tags": []
          },
          "execution_count": 18
        }
      ]
    },
    {
      "cell_type": "code",
      "metadata": {
        "id": "XB0jD2Ws_b4o"
      },
      "source": [
        "def preprocess(text):\n",
        "    text = contractions.fix(text)                        #Contractions like didnt replaced with did not \n",
        "    soup = BeautifulSoup(text, 'html.parser')            #html parser \n",
        "    text = soup.get_text()\n",
        "    text = re.sub('\\@(\\w+)', \" \", text).replace(\": \",\"\") #remove usernames\n",
        "    text = re.sub('#(\\w+)', \" \", text)                   #remove hashtags\n",
        "    text = text.replace(\"RT \",\"\")                        #remove RT Symbols\n",
        "    text = text.replace(\"RT: \",\"\")                       #remove RT Symbols\n",
        "    text = re.sub(\"[^a-zA-Z,]+\", \" \", text)              #remove other non-alpha characters (it includes removing the digtsor numbers as well)\n",
        "    text = text.strip(\" \")                               #remove leading and trailing whitespace\n",
        "    text = re.sub(r'\\W', ' ', text)                      #Remove all the special characters\n",
        "    text = re.sub(r'\\s+[a-zA-Z]\\s+', ' ', text)          #Remove all single characters\n",
        "    text = re.sub(r'\\^[a-zA-Z]\\s+', ' ', text)           #Remove single characters from the start\n",
        "    text = re.sub(r'\\s+', ' ', text, flags=re.I)         #Substituting multiple spaces with single space\n",
        "    text = re.sub(r'^b\\s+', '', text)                    #Removing prefixed 'b'\n",
        "    text = text.lower()                                  #Converting to Lowercase\n",
        "    text = re.sub(r'^http?:\\/\\/.*[\\r\\n]*', '', text, flags=re.MULTILINE) #Remove http URL\n",
        "    return text"
      ],
      "execution_count": 19,
      "outputs": []
    },
    {
      "cell_type": "markdown",
      "metadata": {
        "id": "KJSA1Kx1sO3i"
      },
      "source": [
        "---\n",
        "                                                                     twitter_data2"
      ]
    },
    {
      "cell_type": "code",
      "metadata": {
        "colab": {
          "base_uri": "https://localhost:8080/",
          "height": 198
        },
        "id": "QU7CQcKbAVs7",
        "outputId": "e5ff91c2-86b3-4aaf-96e8-cee52383a618"
      },
      "source": [
        "twitter_data2 = twitter_data1.copy()\n",
        "twitter_data2['text'] = twitter_data2.apply(lambda x: preprocess(x['text']), axis=1)\n",
        "twitter_data2.head()"
      ],
      "execution_count": 20,
      "outputs": [
        {
          "output_type": "execute_result",
          "data": {
            "text/html": [
              "<div>\n",
              "<style scoped>\n",
              "    .dataframe tbody tr th:only-of-type {\n",
              "        vertical-align: middle;\n",
              "    }\n",
              "\n",
              "    .dataframe tbody tr th {\n",
              "        vertical-align: top;\n",
              "    }\n",
              "\n",
              "    .dataframe thead th {\n",
              "        text-align: right;\n",
              "    }\n",
              "</style>\n",
              "<table border=\"1\" class=\"dataframe\">\n",
              "  <thead>\n",
              "    <tr style=\"text-align: right;\">\n",
              "      <th></th>\n",
              "      <th>text</th>\n",
              "      <th>airline_sentiment</th>\n",
              "    </tr>\n",
              "  </thead>\n",
              "  <tbody>\n",
              "    <tr>\n",
              "      <th>0</th>\n",
              "      <td>what said</td>\n",
              "      <td>neutral</td>\n",
              "    </tr>\n",
              "    <tr>\n",
              "      <th>1</th>\n",
              "      <td>plus you have added commercials to the experience tacky</td>\n",
              "      <td>positive</td>\n",
              "    </tr>\n",
              "    <tr>\n",
              "      <th>2</th>\n",
              "      <td>i did not today must mean need to take another trip</td>\n",
              "      <td>neutral</td>\n",
              "    </tr>\n",
              "    <tr>\n",
              "      <th>3</th>\n",
              "      <td>it is really aggressive to blast obnoxious entertainment in your guests faces they have little recourse</td>\n",
              "      <td>negative</td>\n",
              "    </tr>\n",
              "    <tr>\n",
              "      <th>4</th>\n",
              "      <td>and it is really big bad thing about it</td>\n",
              "      <td>negative</td>\n",
              "    </tr>\n",
              "  </tbody>\n",
              "</table>\n",
              "</div>"
            ],
            "text/plain": [
              "                                                                                                      text airline_sentiment\n",
              "0                                                                                                what said           neutral\n",
              "1                                                  plus you have added commercials to the experience tacky          positive\n",
              "2                                                      i did not today must mean need to take another trip           neutral\n",
              "3  it is really aggressive to blast obnoxious entertainment in your guests faces they have little recourse          negative\n",
              "4                                                                  and it is really big bad thing about it          negative"
            ]
          },
          "metadata": {
            "tags": []
          },
          "execution_count": 20
        }
      ]
    },
    {
      "cell_type": "code",
      "metadata": {
        "colab": {
          "base_uri": "https://localhost:8080/",
          "height": 78
        },
        "id": "50QRN-vicfOy",
        "outputId": "5f299786-76f7-4acb-95ac-847e30ee98d7"
      },
      "source": [
        "twitter_data2.loc[[50]] "
      ],
      "execution_count": 21,
      "outputs": [
        {
          "output_type": "execute_result",
          "data": {
            "text/html": [
              "<div>\n",
              "<style scoped>\n",
              "    .dataframe tbody tr th:only-of-type {\n",
              "        vertical-align: middle;\n",
              "    }\n",
              "\n",
              "    .dataframe tbody tr th {\n",
              "        vertical-align: top;\n",
              "    }\n",
              "\n",
              "    .dataframe thead th {\n",
              "        text-align: right;\n",
              "    }\n",
              "</style>\n",
              "<table border=\"1\" class=\"dataframe\">\n",
              "  <thead>\n",
              "    <tr style=\"text-align: right;\">\n",
              "      <th></th>\n",
              "      <th>text</th>\n",
              "      <th>airline_sentiment</th>\n",
              "    </tr>\n",
              "  </thead>\n",
              "  <tbody>\n",
              "    <tr>\n",
              "      <th>50</th>\n",
              "      <td>is flight on it is way was supposed to take off minutes ago website still shows on time not in flight thanks</td>\n",
              "      <td>neutral</td>\n",
              "    </tr>\n",
              "  </tbody>\n",
              "</table>\n",
              "</div>"
            ],
            "text/plain": [
              "                                                                                                            text airline_sentiment\n",
              "50  is flight on it is way was supposed to take off minutes ago website still shows on time not in flight thanks           neutral"
            ]
          },
          "metadata": {
            "tags": []
          },
          "execution_count": 21
        }
      ]
    },
    {
      "cell_type": "markdown",
      "metadata": {
        "id": "jRfwqVKlOfWW"
      },
      "source": [
        "*   Numbers removed\n",
        "*   Punctuations removed\n",
        "*   Non alphabetic character like \"@\", \".\" etc removed\n",
        "*   Converted to lowercase\n",
        "*   removed single letter as no value added for the analysis\n",
        "\n",
        "\n"
      ]
    },
    {
      "cell_type": "code",
      "metadata": {
        "colab": {
          "base_uri": "https://localhost:8080/",
          "height": 78
        },
        "id": "-jIZu9TEKS0N",
        "outputId": "a8702fb6-7e4c-446a-92ec-60a10983bd32"
      },
      "source": [
        "twitter_data2.loc[[105]] #validate against special characters\n"
      ],
      "execution_count": 22,
      "outputs": [
        {
          "output_type": "execute_result",
          "data": {
            "text/html": [
              "<div>\n",
              "<style scoped>\n",
              "    .dataframe tbody tr th:only-of-type {\n",
              "        vertical-align: middle;\n",
              "    }\n",
              "\n",
              "    .dataframe tbody tr th {\n",
              "        vertical-align: top;\n",
              "    }\n",
              "\n",
              "    .dataframe thead th {\n",
              "        text-align: right;\n",
              "    }\n",
              "</style>\n",
              "<table border=\"1\" class=\"dataframe\">\n",
              "  <thead>\n",
              "    <tr style=\"text-align: right;\">\n",
              "      <th></th>\n",
              "      <th>text</th>\n",
              "      <th>airline_sentiment</th>\n",
              "    </tr>\n",
              "  </thead>\n",
              "  <tbody>\n",
              "    <tr>\n",
              "      <th>105</th>\n",
              "      <td>amazing customer service again raeann in sf she is the best</td>\n",
              "      <td>positive</td>\n",
              "    </tr>\n",
              "  </tbody>\n",
              "</table>\n",
              "</div>"
            ],
            "text/plain": [
              "                                                            text airline_sentiment\n",
              "105  amazing customer service again raeann in sf she is the best          positive"
            ]
          },
          "metadata": {
            "tags": []
          },
          "execution_count": 22
        }
      ]
    },
    {
      "cell_type": "code",
      "metadata": {
        "colab": {
          "base_uri": "https://localhost:8080/",
          "height": 78
        },
        "id": "uF10q0tGrfg0",
        "outputId": "5d778633-1113-4a23-a281-30ed2d414b5a"
      },
      "source": [
        "twitter_data2.loc[[73]] #validate against http URLs "
      ],
      "execution_count": 23,
      "outputs": [
        {
          "output_type": "execute_result",
          "data": {
            "text/html": [
              "<div>\n",
              "<style scoped>\n",
              "    .dataframe tbody tr th:only-of-type {\n",
              "        vertical-align: middle;\n",
              "    }\n",
              "\n",
              "    .dataframe tbody tr th {\n",
              "        vertical-align: top;\n",
              "    }\n",
              "\n",
              "    .dataframe thead th {\n",
              "        text-align: right;\n",
              "    }\n",
              "</style>\n",
              "<table border=\"1\" class=\"dataframe\">\n",
              "  <thead>\n",
              "    <tr style=\"text-align: right;\">\n",
              "      <th></th>\n",
              "      <th>text</th>\n",
              "      <th>airline_sentiment</th>\n",
              "    </tr>\n",
              "  </thead>\n",
              "  <tbody>\n",
              "    <tr>\n",
              "      <th>73</th>\n",
              "      <td>your airline is awesome but your lax loft needs to step up its game for dirty tables and floors http co hy vrfhjht</td>\n",
              "      <td>negative</td>\n",
              "    </tr>\n",
              "  </tbody>\n",
              "</table>\n",
              "</div>"
            ],
            "text/plain": [
              "                                                                                                                  text airline_sentiment\n",
              "73  your airline is awesome but your lax loft needs to step up its game for dirty tables and floors http co hy vrfhjht          negative"
            ]
          },
          "metadata": {
            "tags": []
          },
          "execution_count": 23
        }
      ]
    },
    {
      "cell_type": "markdown",
      "metadata": {
        "id": "qxM1tPZKPC3u"
      },
      "source": [
        "\n",
        "\n",
        "*   Non Ascii character like emoji removed\n"
      ]
    },
    {
      "cell_type": "markdown",
      "metadata": {
        "id": "6cdyFeDt338Z"
      },
      "source": [
        "* **Tokenization**"
      ]
    },
    {
      "cell_type": "code",
      "metadata": {
        "colab": {
          "base_uri": "https://localhost:8080/",
          "height": 198
        },
        "id": "iEQ_vQP7GGkW",
        "outputId": "2adb2b74-3333-4abe-a140-5d84f7eaf3b5"
      },
      "source": [
        "# Tokenization \n",
        "twitter_data2['text'] = twitter_data2.apply(lambda row: nltk.word_tokenize(row['text']), axis=1)\n",
        "twitter_data2.head()"
      ],
      "execution_count": 24,
      "outputs": [
        {
          "output_type": "execute_result",
          "data": {
            "text/html": [
              "<div>\n",
              "<style scoped>\n",
              "    .dataframe tbody tr th:only-of-type {\n",
              "        vertical-align: middle;\n",
              "    }\n",
              "\n",
              "    .dataframe tbody tr th {\n",
              "        vertical-align: top;\n",
              "    }\n",
              "\n",
              "    .dataframe thead th {\n",
              "        text-align: right;\n",
              "    }\n",
              "</style>\n",
              "<table border=\"1\" class=\"dataframe\">\n",
              "  <thead>\n",
              "    <tr style=\"text-align: right;\">\n",
              "      <th></th>\n",
              "      <th>text</th>\n",
              "      <th>airline_sentiment</th>\n",
              "    </tr>\n",
              "  </thead>\n",
              "  <tbody>\n",
              "    <tr>\n",
              "      <th>0</th>\n",
              "      <td>[what, said]</td>\n",
              "      <td>neutral</td>\n",
              "    </tr>\n",
              "    <tr>\n",
              "      <th>1</th>\n",
              "      <td>[plus, you, have, added, commercials, to, the, experience, tacky]</td>\n",
              "      <td>positive</td>\n",
              "    </tr>\n",
              "    <tr>\n",
              "      <th>2</th>\n",
              "      <td>[i, did, not, today, must, mean, need, to, take, another, trip]</td>\n",
              "      <td>neutral</td>\n",
              "    </tr>\n",
              "    <tr>\n",
              "      <th>3</th>\n",
              "      <td>[it, is, really, aggressive, to, blast, obnoxious, entertainment, in, your, guests, faces, they, have, little, recourse]</td>\n",
              "      <td>negative</td>\n",
              "    </tr>\n",
              "    <tr>\n",
              "      <th>4</th>\n",
              "      <td>[and, it, is, really, big, bad, thing, about, it]</td>\n",
              "      <td>negative</td>\n",
              "    </tr>\n",
              "  </tbody>\n",
              "</table>\n",
              "</div>"
            ],
            "text/plain": [
              "                                                                                                                       text airline_sentiment\n",
              "0                                                                                                              [what, said]           neutral\n",
              "1                                                         [plus, you, have, added, commercials, to, the, experience, tacky]          positive\n",
              "2                                                           [i, did, not, today, must, mean, need, to, take, another, trip]           neutral\n",
              "3  [it, is, really, aggressive, to, blast, obnoxious, entertainment, in, your, guests, faces, they, have, little, recourse]          negative\n",
              "4                                                                         [and, it, is, really, big, bad, thing, about, it]          negative"
            ]
          },
          "metadata": {
            "tags": []
          },
          "execution_count": 24
        }
      ]
    },
    {
      "cell_type": "markdown",
      "metadata": {
        "id": "hsbpQqvSG3ag"
      },
      "source": [
        "Tokenization separates the sentences into individual units called tokens."
      ]
    },
    {
      "cell_type": "markdown",
      "metadata": {
        "id": "AdznLTZx37hC"
      },
      "source": [
        "* **Lemmatize**"
      ]
    },
    {
      "cell_type": "code",
      "metadata": {
        "colab": {
          "base_uri": "https://localhost:8080/",
          "height": 198
        },
        "id": "VXbxtPCKQ_Dx",
        "outputId": "a2026be1-29af-406c-f672-bbae7eb9d1c8"
      },
      "source": [
        "lemmatizer = WordNetLemmatizer()\n",
        "#Lemmatize\n",
        "def lemmatize_list(words):\n",
        "    new_words = []\n",
        "    for word in words:\n",
        "      new_words.append(lemmatizer.lemmatize(word, pos='v'))\n",
        "    return new_words\n",
        "\n",
        "twitter_data2['text'] = twitter_data2.apply(lambda x: lemmatize_list(x['text']), axis=1)\n",
        "twitter_data2.head()"
      ],
      "execution_count": 25,
      "outputs": [
        {
          "output_type": "execute_result",
          "data": {
            "text/html": [
              "<div>\n",
              "<style scoped>\n",
              "    .dataframe tbody tr th:only-of-type {\n",
              "        vertical-align: middle;\n",
              "    }\n",
              "\n",
              "    .dataframe tbody tr th {\n",
              "        vertical-align: top;\n",
              "    }\n",
              "\n",
              "    .dataframe thead th {\n",
              "        text-align: right;\n",
              "    }\n",
              "</style>\n",
              "<table border=\"1\" class=\"dataframe\">\n",
              "  <thead>\n",
              "    <tr style=\"text-align: right;\">\n",
              "      <th></th>\n",
              "      <th>text</th>\n",
              "      <th>airline_sentiment</th>\n",
              "    </tr>\n",
              "  </thead>\n",
              "  <tbody>\n",
              "    <tr>\n",
              "      <th>0</th>\n",
              "      <td>[what, say]</td>\n",
              "      <td>neutral</td>\n",
              "    </tr>\n",
              "    <tr>\n",
              "      <th>1</th>\n",
              "      <td>[plus, you, have, add, commercials, to, the, experience, tacky]</td>\n",
              "      <td>positive</td>\n",
              "    </tr>\n",
              "    <tr>\n",
              "      <th>2</th>\n",
              "      <td>[i, do, not, today, must, mean, need, to, take, another, trip]</td>\n",
              "      <td>neutral</td>\n",
              "    </tr>\n",
              "    <tr>\n",
              "      <th>3</th>\n",
              "      <td>[it, be, really, aggressive, to, blast, obnoxious, entertainment, in, your, guests, face, they, have, little, recourse]</td>\n",
              "      <td>negative</td>\n",
              "    </tr>\n",
              "    <tr>\n",
              "      <th>4</th>\n",
              "      <td>[and, it, be, really, big, bad, thing, about, it]</td>\n",
              "      <td>negative</td>\n",
              "    </tr>\n",
              "  </tbody>\n",
              "</table>\n",
              "</div>"
            ],
            "text/plain": [
              "                                                                                                                      text airline_sentiment\n",
              "0                                                                                                              [what, say]           neutral\n",
              "1                                                          [plus, you, have, add, commercials, to, the, experience, tacky]          positive\n",
              "2                                                           [i, do, not, today, must, mean, need, to, take, another, trip]           neutral\n",
              "3  [it, be, really, aggressive, to, blast, obnoxious, entertainment, in, your, guests, face, they, have, little, recourse]          negative\n",
              "4                                                                        [and, it, be, really, big, bad, thing, about, it]          negative"
            ]
          },
          "metadata": {
            "tags": []
          },
          "execution_count": 25
        }
      ]
    },
    {
      "cell_type": "code",
      "metadata": {
        "colab": {
          "base_uri": "https://localhost:8080/",
          "height": 78
        },
        "id": "FKG-zuBISLag",
        "outputId": "99fde1b7-aa8d-43ba-b093-bb3d07229151"
      },
      "source": [
        "twitter_data2.loc[[68]]"
      ],
      "execution_count": 26,
      "outputs": [
        {
          "output_type": "execute_result",
          "data": {
            "text/html": [
              "<div>\n",
              "<style scoped>\n",
              "    .dataframe tbody tr th:only-of-type {\n",
              "        vertical-align: middle;\n",
              "    }\n",
              "\n",
              "    .dataframe tbody tr th {\n",
              "        vertical-align: top;\n",
              "    }\n",
              "\n",
              "    .dataframe thead th {\n",
              "        text-align: right;\n",
              "    }\n",
              "</style>\n",
              "<table border=\"1\" class=\"dataframe\">\n",
              "  <thead>\n",
              "    <tr style=\"text-align: right;\">\n",
              "      <th></th>\n",
              "      <th>text</th>\n",
              "      <th>airline_sentiment</th>\n",
              "    </tr>\n",
              "  </thead>\n",
              "  <tbody>\n",
              "    <tr>\n",
              "      <th>68</th>\n",
              "      <td>[congrats, on, win, the, award, for, best, deal, from, an, airline, us, http, co, kj, iljaebv]</td>\n",
              "      <td>positive</td>\n",
              "    </tr>\n",
              "  </tbody>\n",
              "</table>\n",
              "</div>"
            ],
            "text/plain": [
              "                                                                                              text airline_sentiment\n",
              "68  [congrats, on, win, the, award, for, best, deal, from, an, airline, us, http, co, kj, iljaebv]          positive"
            ]
          },
          "metadata": {
            "tags": []
          },
          "execution_count": 26
        }
      ]
    },
    {
      "cell_type": "markdown",
      "metadata": {
        "id": "KYUQhAZ8SwYJ"
      },
      "source": [
        "*   Lammatizer changed 'winning' to win.\n"
      ]
    },
    {
      "cell_type": "markdown",
      "metadata": {
        "id": "tsZefde54FWc"
      },
      "source": [
        "* **Join the words in the list to convert back to text string in the dataframe. (So that each row contains the data in text format.)** "
      ]
    },
    {
      "cell_type": "code",
      "metadata": {
        "id": "6NwLyjCoS9a-"
      },
      "source": [
        "# join the words to back to text_string\n",
        "def join_words(text):\n",
        "    return ' '.join(text)\n",
        "\n",
        "twitter_data2['text'] = twitter_data2.apply(lambda x: join_words(x['text']), axis=1)"
      ],
      "execution_count": 27,
      "outputs": []
    },
    {
      "cell_type": "markdown",
      "metadata": {
        "id": "3B91ZJ7-4Mr0"
      },
      "source": [
        "* **Print first 5 rows of data after pre-processing**"
      ]
    },
    {
      "cell_type": "code",
      "metadata": {
        "colab": {
          "base_uri": "https://localhost:8080/",
          "height": 198
        },
        "id": "gE-p4dy04LdC",
        "outputId": "06ab4e5f-dc4d-4d7d-b79b-5626c967d123"
      },
      "source": [
        "twitter_data2.head()"
      ],
      "execution_count": 28,
      "outputs": [
        {
          "output_type": "execute_result",
          "data": {
            "text/html": [
              "<div>\n",
              "<style scoped>\n",
              "    .dataframe tbody tr th:only-of-type {\n",
              "        vertical-align: middle;\n",
              "    }\n",
              "\n",
              "    .dataframe tbody tr th {\n",
              "        vertical-align: top;\n",
              "    }\n",
              "\n",
              "    .dataframe thead th {\n",
              "        text-align: right;\n",
              "    }\n",
              "</style>\n",
              "<table border=\"1\" class=\"dataframe\">\n",
              "  <thead>\n",
              "    <tr style=\"text-align: right;\">\n",
              "      <th></th>\n",
              "      <th>text</th>\n",
              "      <th>airline_sentiment</th>\n",
              "    </tr>\n",
              "  </thead>\n",
              "  <tbody>\n",
              "    <tr>\n",
              "      <th>0</th>\n",
              "      <td>what say</td>\n",
              "      <td>neutral</td>\n",
              "    </tr>\n",
              "    <tr>\n",
              "      <th>1</th>\n",
              "      <td>plus you have add commercials to the experience tacky</td>\n",
              "      <td>positive</td>\n",
              "    </tr>\n",
              "    <tr>\n",
              "      <th>2</th>\n",
              "      <td>i do not today must mean need to take another trip</td>\n",
              "      <td>neutral</td>\n",
              "    </tr>\n",
              "    <tr>\n",
              "      <th>3</th>\n",
              "      <td>it be really aggressive to blast obnoxious entertainment in your guests face they have little recourse</td>\n",
              "      <td>negative</td>\n",
              "    </tr>\n",
              "    <tr>\n",
              "      <th>4</th>\n",
              "      <td>and it be really big bad thing about it</td>\n",
              "      <td>negative</td>\n",
              "    </tr>\n",
              "  </tbody>\n",
              "</table>\n",
              "</div>"
            ],
            "text/plain": [
              "                                                                                                     text airline_sentiment\n",
              "0                                                                                                what say           neutral\n",
              "1                                                   plus you have add commercials to the experience tacky          positive\n",
              "2                                                      i do not today must mean need to take another trip           neutral\n",
              "3  it be really aggressive to blast obnoxious entertainment in your guests face they have little recourse          negative\n",
              "4                                                                 and it be really big bad thing about it          negative"
            ]
          },
          "metadata": {
            "tags": []
          },
          "execution_count": 28
        }
      ]
    },
    {
      "cell_type": "markdown",
      "metadata": {
        "id": "X1UZTL7a4lCm"
      },
      "source": [
        "**Fit and evaluate model using both type of vectorization.**"
      ]
    },
    {
      "cell_type": "markdown",
      "metadata": {
        "id": "uqZcYqwSTMvM"
      },
      "source": [
        "**Vectorization**"
      ]
    },
    {
      "cell_type": "markdown",
      "metadata": {
        "id": "uWkkGMiqTSFP"
      },
      "source": [
        "**CountVectorizer**\n"
      ]
    },
    {
      "cell_type": "code",
      "metadata": {
        "id": "k7Rl-pS2Tc4k"
      },
      "source": [
        "#Count Vectorizer to convert text to numbers \n",
        "from sklearn.feature_extraction.text import CountVectorizer\n",
        "cv = CountVectorizer()                \n",
        "Count_Vectorizer = cv.fit_transform(twitter_data2['text'])\n",
        "Count_Vectorizer  = Count_Vectorizer.toarray() "
      ],
      "execution_count": 29,
      "outputs": []
    },
    {
      "cell_type": "code",
      "metadata": {
        "colab": {
          "base_uri": "https://localhost:8080/"
        },
        "id": "cNXyCBDETmFr",
        "outputId": "30cad395-dd38-433b-c22a-f3e91e251666"
      },
      "source": [
        "Count_Vectorizer.shape\n"
      ],
      "execution_count": 30,
      "outputs": [
        {
          "output_type": "execute_result",
          "data": {
            "text/plain": [
              "(14640, 9839)"
            ]
          },
          "metadata": {
            "tags": []
          },
          "execution_count": 30
        }
      ]
    },
    {
      "cell_type": "markdown",
      "metadata": {
        "id": "ArvdEA_Cxp3A"
      },
      "source": [
        "**TfidfVectorizer**\n"
      ]
    },
    {
      "cell_type": "code",
      "metadata": {
        "id": "3IT3x7phxnnz"
      },
      "source": [
        "#Tfid Vectorizer to convert text to numbers\n",
        "from sklearn.feature_extraction.text import TfidfVectorizer \n",
        "\n",
        "tv = TfidfVectorizer()\n",
        "Tfid_Vectorizer = tv.fit_transform(twitter_data2['text'])\n",
        "Tfid_Vectorizer = Tfid_Vectorizer.toarray() "
      ],
      "execution_count": 31,
      "outputs": []
    },
    {
      "cell_type": "markdown",
      "metadata": {
        "id": "FD2ouP7vUbIb"
      },
      "source": [
        "**Model Buidling: CountVectorizer & TfidVectorizer**\n"
      ]
    },
    {
      "cell_type": "code",
      "metadata": {
        "id": "8sFZu3SNUBAV"
      },
      "source": [
        "labels=twitter_data2['airline_sentiment'].apply(lambda x: 0 if x=='negative' else (1 if x=='positive' else 2))\n",
        "labels = labels.astype('int')"
      ],
      "execution_count": 32,
      "outputs": []
    },
    {
      "cell_type": "code",
      "metadata": {
        "colab": {
          "base_uri": "https://localhost:8080/"
        },
        "id": "THgSTEglUGjW",
        "outputId": "e2a5d051-8dc7-4fc7-aab7-5face52ebf16"
      },
      "source": [
        "labels"
      ],
      "execution_count": 33,
      "outputs": [
        {
          "output_type": "execute_result",
          "data": {
            "text/plain": [
              "0        2\n",
              "1        1\n",
              "2        2\n",
              "3        0\n",
              "4        0\n",
              "        ..\n",
              "14635    1\n",
              "14636    0\n",
              "14637    2\n",
              "14638    0\n",
              "14639    2\n",
              "Name: airline_sentiment, Length: 14640, dtype: int64"
            ]
          },
          "metadata": {
            "tags": []
          },
          "execution_count": 33
        }
      ]
    },
    {
      "cell_type": "code",
      "metadata": {
        "id": "FW0s41iazLmO"
      },
      "source": [
        "def run_model(model_name,X_train,y_train,X_test,y_test,cv_if):\n",
        "     print(\"***************************\",model_name,\"**************************\\n\")\n",
        "     if model_name == \"randomforest\":\n",
        "        model = RandomForestClassifier(n_estimators=10, n_jobs=4)\n",
        "     elif model_name == \"adaboost\":\n",
        "        model = AdaBoostClassifier()\n",
        "\n",
        "     model = model.fit(X_train, y_train)\n",
        "     train_score = np.mean(cross_val_score(model, cv_if, labels, cv=10))\n",
        "     print(\"Train score:\", train_score)\n",
        "\n",
        "     pred_outcome = model.predict(X_test)\n",
        "     test_score = model.score(X_test,y_test)\n",
        "     print(\"Test score:\", test_score)\n",
        "\n",
        "     print(\"\\n\\n Confusion Matrix:\\n\")\n",
        "     cm = confusion_matrix(y_test, pred_outcome)  \n",
        "     print(cm)\n",
        "     df_cm = pd.DataFrame(cm)\n",
        "     plt.figure(figsize = (5,3))\n",
        "     \n",
        "     sns.heatmap(df_cm, annot=True, fmt='g')\n",
        "     print(\"\\n\\nClassification Report:\\n\")\n",
        "     cr=metrics.classification_report(y_test,pred_outcome)\n",
        "     print(cr)\n",
        "\n",
        "     return    "
      ],
      "execution_count": 36,
      "outputs": []
    },
    {
      "cell_type": "code",
      "metadata": {
        "id": "g6A6qs7fUnED"
      },
      "source": [
        "from sklearn import metrics\n",
        "from sklearn.metrics import confusion_matrix, recall_score, precision_score, f1_score, roc_auc_score,accuracy_score\n",
        "from sklearn.ensemble import RandomForestClassifier , AdaBoostClassifier, GradientBoostingClassifier\n",
        "from sklearn.model_selection import cross_val_score"
      ],
      "execution_count": 35,
      "outputs": []
    },
    {
      "cell_type": "code",
      "metadata": {
        "id": "kAXcrhgSc1QB"
      },
      "source": [
        "# Split data into training and testing set (Count_Vectorizer).\n",
        "from sklearn.model_selection import train_test_split\n",
        "X_train, X_test, y_train, y_test = train_test_split(Count_Vectorizer, labels, test_size=0.3, random_state=20)\n"
      ],
      "execution_count": 34,
      "outputs": []
    },
    {
      "cell_type": "code",
      "metadata": {
        "colab": {
          "base_uri": "https://localhost:8080/",
          "height": 629
        },
        "id": "aXeO2uwB1Zsi",
        "outputId": "230d0158-2aad-4147-9f77-6668deea03e4"
      },
      "source": [
        "run_model(\"randomforest\",X_train,y_train,X_test,y_test,Count_Vectorizer)"
      ],
      "execution_count": 37,
      "outputs": [
        {
          "output_type": "stream",
          "text": [
            "*************************** randomforest **************************\n",
            "\n",
            "Train score: 0.7362704918032786\n",
            "Test score: 0.7509107468123861\n",
            "\n",
            "\n",
            " Confusion Matrix:\n",
            "\n",
            "[[2583   40  127]\n",
            " [ 284  355   95]\n",
            " [ 479   69  360]]\n",
            "\n",
            "\n",
            "Classification Report:\n",
            "\n",
            "              precision    recall  f1-score   support\n",
            "\n",
            "           0       0.77      0.94      0.85      2750\n",
            "           1       0.77      0.48      0.59       734\n",
            "           2       0.62      0.40      0.48       908\n",
            "\n",
            "    accuracy                           0.75      4392\n",
            "   macro avg       0.72      0.61      0.64      4392\n",
            "weighted avg       0.74      0.75      0.73      4392\n",
            "\n"
          ],
          "name": "stdout"
        },
        {
          "output_type": "display_data",
          "data": {
            "image/png": "[encoded data removed]",
            "text/plain": [
              "<Figure size 360x216 with 2 Axes>"
            ]
          },
          "metadata": {
            "tags": [],
            "needs_background": "light"
          }
        }
      ]
    },
    {
      "cell_type": "code",
      "metadata": {
        "id": "KbMo2bv0VRyR"
      },
      "source": [
        " result = pd.DataFrame({'Dataset' : ['Count Vectorizer data'],\n",
        "                        'Model' : ['RandomForestClassifier'], \n",
        "                        'cross_val_Score' :'0.74',\n",
        "                        'Testing_Score' :'0.75',\n",
        "                        'Negative Sentiment(Precision)' :'0.77',\n",
        "                        'Negative Sentiment(Recall)' :'0.94',\n",
        "                        'Negative Sentiment(F1-Score)' :'0.85',\n",
        "                        'Positive Sentiment(Precision)' :'0.77',\n",
        "                        'Positive Sentiment(Recall)' :'0.48',\n",
        "                        'Positive Sentiment(F1-Score)' :'0.59',\n",
        "                        'Neutral Sentiment(Precision)' :'0.62',\n",
        "                        'Neutral Sentiment(Recall)' :'0.40',\n",
        "                        'Neutral Sentiment(F1-Score)' :'0.48'\n",
        "                      })"
      ],
      "execution_count": 58,
      "outputs": []
    },
    {
      "cell_type": "code",
      "metadata": {
        "colab": {
          "base_uri": "https://localhost:8080/",
          "height": 629
        },
        "id": "FNC6Ow3DT_1u",
        "outputId": "2fdcbb65-7fc3-47a1-b245-356d15576af5"
      },
      "source": [
        "run_model(\"adaboost\",X_train,y_train,X_test,y_test,Count_Vectorizer)"
      ],
      "execution_count": 39,
      "outputs": [
        {
          "output_type": "stream",
          "text": [
            "*************************** adaboost **************************\n",
            "\n",
            "Train score: 0.7415983606557377\n",
            "Test score: 0.7459016393442623\n",
            "\n",
            "\n",
            " Confusion Matrix:\n",
            "\n",
            "[[2388   92  270]\n",
            " [ 185  435  114]\n",
            " [ 379   76  453]]\n",
            "\n",
            "\n",
            "Classification Report:\n",
            "\n",
            "              precision    recall  f1-score   support\n",
            "\n",
            "           0       0.81      0.87      0.84      2750\n",
            "           1       0.72      0.59      0.65       734\n",
            "           2       0.54      0.50      0.52       908\n",
            "\n",
            "    accuracy                           0.75      4392\n",
            "   macro avg       0.69      0.65      0.67      4392\n",
            "weighted avg       0.74      0.75      0.74      4392\n",
            "\n"
          ],
          "name": "stdout"
        },
        {
          "output_type": "display_data",
          "data": {
            "image/png": "[encoded data removed]",
            "text/plain": [
              "<Figure size 360x216 with 2 Axes>"
            ]
          },
          "metadata": {
            "tags": [],
            "needs_background": "light"
          }
        }
      ]
    },
    {
      "cell_type": "code",
      "metadata": {
        "id": "YZ7UABgnsuF_"
      },
      "source": [
        " result.loc[1] = ['Count Vectorizer data','AdaBoostClassifier','0.74','0.75','0.81','0.87','0.84','0.72','0.59','0.65','0.54','0.50','0.52']"
      ],
      "execution_count": 59,
      "outputs": []
    },
    {
      "cell_type": "code",
      "metadata": {
        "id": "k4kd8JNd0XFu"
      },
      "source": [
        "# Split data into training and testing set.\n",
        "from sklearn.model_selection import train_test_split\n",
        "X_train, X_test, y_train, y_test = train_test_split(Tfid_Vectorizer, labels, test_size=0.3, random_state=30)\n"
      ],
      "execution_count": 47,
      "outputs": []
    },
    {
      "cell_type": "code",
      "metadata": {
        "id": "4Wj_iCtnfIfD",
        "colab": {
          "base_uri": "https://localhost:8080/",
          "height": 629
        },
        "outputId": "85c0e82d-991b-4c4a-e93f-b436b509e9a8"
      },
      "source": [
        "run_model(\"randomforest\",X_train,y_train,X_test,y_test,Tfid_Vectorizer)"
      ],
      "execution_count": 48,
      "outputs": [
        {
          "output_type": "stream",
          "text": [
            "*************************** randomforest **************************\n",
            "\n",
            "Train score: 0.7280737704918032\n",
            "Test score: 0.7336065573770492\n",
            "\n",
            "\n",
            " Confusion Matrix:\n",
            "\n",
            "[[2611   26  114]\n",
            " [ 350  279   83]\n",
            " [ 547   50  332]]\n",
            "\n",
            "\n",
            "Classification Report:\n",
            "\n",
            "              precision    recall  f1-score   support\n",
            "\n",
            "           0       0.74      0.95      0.83      2751\n",
            "           1       0.79      0.39      0.52       712\n",
            "           2       0.63      0.36      0.46       929\n",
            "\n",
            "    accuracy                           0.73      4392\n",
            "   macro avg       0.72      0.57      0.60      4392\n",
            "weighted avg       0.73      0.73      0.70      4392\n",
            "\n"
          ],
          "name": "stdout"
        },
        {
          "output_type": "display_data",
          "data": {
            "image/png": "[encoded data removed]",
            "text/plain": [
              "<Figure size 360x216 with 2 Axes>"
            ]
          },
          "metadata": {
            "tags": [],
            "needs_background": "light"
          }
        }
      ]
    },
    {
      "cell_type": "code",
      "metadata": {
        "id": "9EzzNh5kycG2"
      },
      "source": [
        " result.loc[2] = ['Tfid Vectorizer data','RandomForestClassifier','0.73','0.74','0.74','0.95','0.83','0.79','0.39','0.52','0.63','0.36','0.46']"
      ],
      "execution_count": 60,
      "outputs": []
    },
    {
      "cell_type": "code",
      "metadata": {
        "id": "Ar4DdU495amI",
        "colab": {
          "base_uri": "https://localhost:8080/",
          "height": 629
        },
        "outputId": "259b6a4a-505c-4954-98df-9a142b86d9cb"
      },
      "source": [
        "run_model(\"adaboost\",X_train,y_train,X_test,y_test,Tfid_Vectorizer)\n"
      ],
      "execution_count": 50,
      "outputs": [
        {
          "output_type": "stream",
          "text": [
            "*************************** adaboost **************************\n",
            "\n",
            "Train score: 0.7352459016393442\n",
            "Test score: 0.7342896174863388\n",
            "\n",
            "\n",
            " Confusion Matrix:\n",
            "\n",
            "[[2352  101  298]\n",
            " [ 200  420   92]\n",
            " [ 405   71  453]]\n",
            "\n",
            "\n",
            "Classification Report:\n",
            "\n",
            "              precision    recall  f1-score   support\n",
            "\n",
            "           0       0.80      0.85      0.82      2751\n",
            "           1       0.71      0.59      0.64       712\n",
            "           2       0.54      0.49      0.51       929\n",
            "\n",
            "    accuracy                           0.73      4392\n",
            "   macro avg       0.68      0.64      0.66      4392\n",
            "weighted avg       0.73      0.73      0.73      4392\n",
            "\n"
          ],
          "name": "stdout"
        },
        {
          "output_type": "display_data",
          "data": {
            "image/png": "[encoded data removed]",
            "text/plain": [
              "<Figure size 360x216 with 2 Axes>"
            ]
          },
          "metadata": {
            "tags": [],
            "needs_background": "light"
          }
        }
      ]
    },
    {
      "cell_type": "code",
      "metadata": {
        "id": "z-35XjvvevhY"
      },
      "source": [
        "result.loc[3] = ['Tfid Vectorizer data','AbaBoostClassifier','0.74','0.73','0.80','0.85','0.82','0.71','0.59','0.64','0.54','0.49','0.51']"
      ],
      "execution_count": 61,
      "outputs": []
    },
    {
      "cell_type": "markdown",
      "metadata": {
        "id": "aY3qTNSjnlyi"
      },
      "source": [
        "**Summary:**\n",
        "*Below Pre Procesing steps performed on the sentiment text*\n",
        "* HTML Tag Removal\n",
        "* Contractions like didnt replaced with did not \n",
        "* Handled html parser (but none found) \n",
        "* Removal usernames\n",
        "* Removal hashtags\n",
        "* Removal RT Symbols\n",
        "* Removal other non-alpha characters (it includes removing the digtsor numbers as well)\n",
        "* Removal of leading and trailing whitespace\n",
        "* Removal of all the special characters\n",
        "* Removal all single characters\n",
        "* Removal single characters from the start\n",
        "* Substituting multiple spaces with single space\n",
        "* Removal of http URLs\n",
        "* Converted to Lowercase\n",
        "* Lemmatization\n",
        "* joined the words back to the list\n",
        "* tokenized\n"
      ]
    },
    {
      "cell_type": "markdown",
      "metadata": {
        "id": "rs7upj3IoCBm"
      },
      "source": [
        "After Pre Processing and Vectorization , Random Forest and AdaBoost Models were bulid for prediciting sentiments"
      ]
    },
    {
      "cell_type": "code",
      "metadata": {
        "id": "3LVIZL35fAtE",
        "colab": {
          "base_uri": "https://localhost:8080/",
          "height": 435
        },
        "outputId": "09b505cd-b7ae-4a59-a9a5-6586a5c545de"
      },
      "source": [
        "result.T"
      ],
      "execution_count": 62,
      "outputs": [
        {
          "output_type": "execute_result",
          "data": {
            "text/html": [
              "<div>\n",
              "<style scoped>\n",
              "    .dataframe tbody tr th:only-of-type {\n",
              "        vertical-align: middle;\n",
              "    }\n",
              "\n",
              "    .dataframe tbody tr th {\n",
              "        vertical-align: top;\n",
              "    }\n",
              "\n",
              "    .dataframe thead th {\n",
              "        text-align: right;\n",
              "    }\n",
              "</style>\n",
              "<table border=\"1\" class=\"dataframe\">\n",
              "  <thead>\n",
              "    <tr style=\"text-align: right;\">\n",
              "      <th></th>\n",
              "      <th>0</th>\n",
              "      <th>1</th>\n",
              "      <th>2</th>\n",
              "      <th>3</th>\n",
              "    </tr>\n",
              "  </thead>\n",
              "  <tbody>\n",
              "    <tr>\n",
              "      <th>Dataset</th>\n",
              "      <td>Count Vectorizer data</td>\n",
              "      <td>Count Vectorizer data</td>\n",
              "      <td>Tfid Vectorizer data</td>\n",
              "      <td>Tfid Vectorizer data</td>\n",
              "    </tr>\n",
              "    <tr>\n",
              "      <th>Model</th>\n",
              "      <td>RandomForestClassifier</td>\n",
              "      <td>AdaBoostClassifier</td>\n",
              "      <td>RandomForestClassifier</td>\n",
              "      <td>AbaBoostClassifier</td>\n",
              "    </tr>\n",
              "    <tr>\n",
              "      <th>cross_val_Score</th>\n",
              "      <td>0.74</td>\n",
              "      <td>0.74</td>\n",
              "      <td>0.73</td>\n",
              "      <td>0.74</td>\n",
              "    </tr>\n",
              "    <tr>\n",
              "      <th>Testing_Score</th>\n",
              "      <td>0.75</td>\n",
              "      <td>0.75</td>\n",
              "      <td>0.74</td>\n",
              "      <td>0.73</td>\n",
              "    </tr>\n",
              "    <tr>\n",
              "      <th>Negative Sentiment(Precision)</th>\n",
              "      <td>0.77</td>\n",
              "      <td>0.81</td>\n",
              "      <td>0.74</td>\n",
              "      <td>0.80</td>\n",
              "    </tr>\n",
              "    <tr>\n",
              "      <th>Negative Sentiment(Recall)</th>\n",
              "      <td>0.94</td>\n",
              "      <td>0.87</td>\n",
              "      <td>0.95</td>\n",
              "      <td>0.85</td>\n",
              "    </tr>\n",
              "    <tr>\n",
              "      <th>Negative Sentiment(F1-Score)</th>\n",
              "      <td>0.85</td>\n",
              "      <td>0.84</td>\n",
              "      <td>0.83</td>\n",
              "      <td>0.82</td>\n",
              "    </tr>\n",
              "    <tr>\n",
              "      <th>Positive Sentiment(Precision)</th>\n",
              "      <td>0.77</td>\n",
              "      <td>0.72</td>\n",
              "      <td>0.79</td>\n",
              "      <td>0.71</td>\n",
              "    </tr>\n",
              "    <tr>\n",
              "      <th>Positive Sentiment(Recall)</th>\n",
              "      <td>0.48</td>\n",
              "      <td>0.59</td>\n",
              "      <td>0.39</td>\n",
              "      <td>0.59</td>\n",
              "    </tr>\n",
              "    <tr>\n",
              "      <th>Positive Sentiment(F1-Score)</th>\n",
              "      <td>0.59</td>\n",
              "      <td>0.65</td>\n",
              "      <td>0.52</td>\n",
              "      <td>0.64</td>\n",
              "    </tr>\n",
              "    <tr>\n",
              "      <th>Neutral Sentiment(Precision)</th>\n",
              "      <td>0.62</td>\n",
              "      <td>0.54</td>\n",
              "      <td>0.63</td>\n",
              "      <td>0.54</td>\n",
              "    </tr>\n",
              "    <tr>\n",
              "      <th>Neutral Sentiment(Recall)</th>\n",
              "      <td>0.40</td>\n",
              "      <td>0.50</td>\n",
              "      <td>0.36</td>\n",
              "      <td>0.49</td>\n",
              "    </tr>\n",
              "    <tr>\n",
              "      <th>Neutral Sentiment(F1-Score)</th>\n",
              "      <td>0.48</td>\n",
              "      <td>0.52</td>\n",
              "      <td>0.46</td>\n",
              "      <td>0.51</td>\n",
              "    </tr>\n",
              "  </tbody>\n",
              "</table>\n",
              "</div>"
            ],
            "text/plain": [
              "                                                     0  ...                     3\n",
              "                       Dataset   Count Vectorizer data  ...  Tfid Vectorizer data\n",
              "                         Model  RandomForestClassifier  ...    AbaBoostClassifier\n",
              "               cross_val_Score                    0.74  ...                  0.74\n",
              "                 Testing_Score                    0.75  ...                  0.73\n",
              " Negative Sentiment(Precision)                    0.77  ...                  0.80\n",
              "    Negative Sentiment(Recall)                    0.94  ...                  0.85\n",
              "  Negative Sentiment(F1-Score)                    0.85  ...                  0.82\n",
              " Positive Sentiment(Precision)                    0.77  ...                  0.71\n",
              "    Positive Sentiment(Recall)                    0.48  ...                  0.59\n",
              "  Positive Sentiment(F1-Score)                    0.59  ...                  0.64\n",
              "  Neutral Sentiment(Precision)                    0.62  ...                  0.54\n",
              "     Neutral Sentiment(Recall)                    0.40  ...                  0.49\n",
              "   Neutral Sentiment(F1-Score)                    0.48  ...                  0.51\n",
              "\n",
              "[13 rows x 4 columns]"
            ]
          },
          "metadata": {
            "tags": []
          },
          "execution_count": 62
        }
      ]
    },
    {
      "cell_type": "markdown",
      "metadata": {
        "id": "_Rj6nGiIfrsS"
      },
      "source": [
        "From the above models we have \n",
        "* an accuracy of more than 73% and \n",
        "* F1 score for negative sentiments are (above 82%) \n",
        "* F1 score for positive sentiments are (52%-65%) and \n",
        "* F1 score for netural sentiments are (46%-52%).\n",
        "\n",
        "**Overall, F1 Score of negative sentiment is high for Randomforest and AdaBoostClassifier with CounterVectorizer though the positive and neutral scores are lower to other models.** \n",
        "\n",
        "**But, we would give higher weightage for the negativity to ensure that the negative sentiments when compared with false positive/neutral sentments.**"
      ]
    },
    {
      "cell_type": "markdown",
      "metadata": {
        "id": "PIQLkb-Q0OWA"
      },
      "source": [
        "# End Of Project"
      ]
    }
  ]
}